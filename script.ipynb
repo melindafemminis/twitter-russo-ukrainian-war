{
  "nbformat": 4,
  "nbformat_minor": 0,
  "metadata": {
    "colab": {
      "name": "anavis4.ipynb",
      "provenance": []
    },
    "kernelspec": {
      "name": "python3",
      "display_name": "Python 3"
    },
    "language_info": {
      "name": "python"
    }
  },
  "cells": [
    {
      "cell_type": "markdown",
      "source": [
        "# ANAVIS Project \n",
        "Create a network from tweet replies about the war in Ukraine. "
      ],
      "metadata": {
        "id": "bpu0oPRbFdix"
      }
    },
    {
      "cell_type": "markdown",
      "source": [
        "### Import librairies"
      ],
      "metadata": {
        "id": "1IXLCeFyFl9K"
      }
    },
    {
      "cell_type": "code",
      "execution_count": 1,
      "metadata": {
        "id": "UAJ15kRY0QzZ"
      },
      "outputs": [],
      "source": [
        "import pandas as pd\n",
        "from google.colab import files\n",
        "from google.colab import drive"
      ]
    },
    {
      "cell_type": "markdown",
      "source": [
        "### Mount drive and download CSVs to df"
      ],
      "metadata": {
        "id": "-chG1CMP3qnb"
      }
    },
    {
      "cell_type": "code",
      "source": [
        "drive.mount('/content/drive')"
      ],
      "metadata": {
        "id": "L9x4qR2F0ZNq",
        "colab": {
          "base_uri": "https://localhost:8080/"
        },
        "outputId": "a1d401fd-9157-4635-c0c8-6d1c9c35f197"
      },
      "execution_count": 2,
      "outputs": [
        {
          "output_type": "stream",
          "name": "stdout",
          "text": [
            "Mounted at /content/drive\n"
          ]
        }
      ]
    },
    {
      "cell_type": "code",
      "source": [
        "file_name = '/content/drive/My Drive/.../27-02-22/2022-02-27_{}.csv'\n",
        "df2702 = pd.concat([pd.read_csv(file_name.format(i)) for i in range(1, 7)])\n",
        "cols = df2702.shape[1]\n",
        "rows = df2702.shape[0]\n",
        "print(f\"Success ! Dowloaded df (27-02-22) with {rows} rows and {cols} columns.\")"
      ],
      "metadata": {
        "id": "xzviFCRp2YMq",
        "colab": {
          "base_uri": "https://localhost:8080/"
        },
        "outputId": "ccdf4421-7875-413c-dfa1-593f60ea1729"
      },
      "execution_count": 3,
      "outputs": [
        {
          "output_type": "stream",
          "name": "stderr",
          "text": [
            "/usr/local/lib/python3.7/dist-packages/ipykernel_launcher.py:2: DtypeWarning: Columns (0) have mixed types.Specify dtype option on import or set low_memory=False.\n",
            "  \n"
          ]
        },
        {
          "output_type": "stream",
          "name": "stdout",
          "text": [
            "Success ! Dowloaded df (27-02-22) with 192210 rows and 35 columns.\n"
          ]
        }
      ]
    },
    {
      "cell_type": "code",
      "source": [
        "file_name = '/content/drive/My Drive/.../06-03-22/2022-03-06_{}.csv'\n",
        "df0603 = pd.concat([pd.read_csv(file_name.format(i)) for i in range(1, 7)])\n",
        "cols = df0603.shape[1]\n",
        "rows = df0603.shape[0]\n",
        "print(f\"Success ! Dowloaded df (06-03-33) with {rows} rows and {cols} columns.\")"
      ],
      "metadata": {
        "colab": {
          "base_uri": "https://localhost:8080/"
        },
        "id": "3NnN7iXo23KV",
        "outputId": "c37a1d24-7bd6-42b6-b6f1-6a891e1721c4"
      },
      "execution_count": 4,
      "outputs": [
        {
          "output_type": "stream",
          "name": "stdout",
          "text": [
            "Success ! Dowloaded df (06-03-33) with 197595 rows and 35 columns.\n"
          ]
        }
      ]
    },
    {
      "cell_type": "code",
      "source": [
        "file_name = '/content/drive/My Drive/.../15-04-22/2022-04-15_{}.csv'\n",
        "df1504 = pd.concat([pd.read_csv(file_name.format(i)) for i in range(1, 6)])\n",
        "cols = df1504.shape[1]\n",
        "rows = df1504.shape[0]\n",
        "print(f\"Success ! Dowloaded df (15-04-22) with {rows} rows and {cols} columns.\")"
      ],
      "metadata": {
        "id": "eoVWDJEi24Fm",
        "colab": {
          "base_uri": "https://localhost:8080/"
        },
        "outputId": "c0094acc-3988-4abd-f9ae-f7285e3702f0"
      },
      "execution_count": 5,
      "outputs": [
        {
          "output_type": "stream",
          "name": "stderr",
          "text": [
            "/usr/local/lib/python3.7/dist-packages/ipykernel_launcher.py:2: DtypeWarning: Columns (0) have mixed types.Specify dtype option on import or set low_memory=False.\n",
            "  \n"
          ]
        },
        {
          "output_type": "stream",
          "name": "stdout",
          "text": [
            "Success ! Dowloaded df (15-04-22) with 186573 rows and 35 columns.\n"
          ]
        }
      ]
    },
    {
      "cell_type": "markdown",
      "source": [
        "### Select columns and language"
      ],
      "metadata": {
        "id": "ZTM8UhEW32pA"
      }
    },
    {
      "cell_type": "code",
      "source": [
        "def preprocess(df):\n",
        "  # Select columns and keep only english tweets\n",
        "  df_rep = df[['user_screen_name', 'in_reply_to_screen_name', 'text', 'created_at', 'lang']].loc[df['lang'] == 'en']\n",
        "  # Keep only tweets that are replies to other tweets and delete lang col\n",
        "  df_rep = df_rep[df_rep['in_reply_to_screen_name'].notna()].drop(['lang'], axis=1)\n",
        "  return df_rep"
      ],
      "metadata": {
        "id": "VUw44Wts35ya"
      },
      "execution_count": 6,
      "outputs": []
    },
    {
      "cell_type": "code",
      "source": [
        "df2702_clean = preprocess(df2702)\n",
        "df0603_clean = preprocess(df0603)\n",
        "df1504_clean = preprocess(df1504)\n",
        "dfs = [df2702_clean, df0603_clean, df1504_clean]"
      ],
      "metadata": {
        "id": "f--lTO056fdy"
      },
      "execution_count": 7,
      "outputs": []
    },
    {
      "cell_type": "code",
      "source": [
        "#dfs_shorts = list()\n",
        "#for df in dfs:\n",
        "#  v = df['user_screen_name'].value_counts()\n",
        "# dfs_shorts.append(df[df.user_screen_name.isin(v.index[v.gt(2)])])"
      ],
      "metadata": {
        "id": "mNOwOPeITvNb"
      },
      "execution_count": null,
      "outputs": []
    },
    {
      "cell_type": "code",
      "source": [
        "v = df2702_clean['user_screen_name'].value_counts()\n",
        "df1 = df2702_clean[df2702_clean.user_screen_name.isin(v.index[v.gt(2)])]\n",
        "\n",
        "v = df0603_clean['user_screen_name'].value_counts()\n",
        "df2 = df0603_clean[df0603_clean.user_screen_name.isin(v.index[v.gt(5)])]\n",
        "\n",
        "v = df1504_clean['user_screen_name'].value_counts()\n",
        "df3 = df1504_clean[df1504_clean.user_screen_name.isin(v.index[v.gt(10)])]"
      ],
      "metadata": {
        "id": "VKNvI_m4U4Kq"
      },
      "execution_count": 8,
      "outputs": []
    },
    {
      "cell_type": "markdown",
      "source": [
        "### Save to CSV"
      ],
      "metadata": {
        "id": "yW9rBw9UEE4m"
      }
    },
    {
      "cell_type": "code",
      "source": [
        "df1.to_csv( \"/content/drive/My Drive/.../2702.csv\", index=False, encoding='utf-8-sig')"
      ],
      "metadata": {
        "id": "GE15RpW9EGic"
      },
      "execution_count": null,
      "outputs": []
    },
    {
      "cell_type": "code",
      "source": [
        "df2.to_csv( \"/content/drive/My Drive/.../0603.csv\", index=False, encoding='utf-8-sig')"
      ],
      "metadata": {
        "id": "cmXu3kTtEM-q"
      },
      "execution_count": null,
      "outputs": []
    },
    {
      "cell_type": "code",
      "source": [
        "df3.to_csv( \"/content/drive/My Drive/.../1504.csv\", index=False, encoding='utf-8-sig')"
      ],
      "metadata": {
        "id": "6D6ViL-tENVD"
      },
      "execution_count": null,
      "outputs": []
    },
    {
      "cell_type": "markdown",
      "source": [
        "### Create a single df with all 3 days"
      ],
      "metadata": {
        "id": "vF-mxt8Fb2ux"
      }
    },
    {
      "cell_type": "code",
      "source": [
        "dfs = pd.concat([df1, df2, df3], ignore_index=True)"
      ],
      "metadata": {
        "id": "Fg6L3SXjbxtD"
      },
      "execution_count": null,
      "outputs": []
    },
    {
      "cell_type": "code",
      "source": [
        "dfs.to_csv( \"/content/drive/My Drive/.../total.csv\", index=False, encoding='utf-8-sig')"
      ],
      "metadata": {
        "id": "L9b9X99OvtxP"
      },
      "execution_count": 10,
      "outputs": []
    }
  ]
}